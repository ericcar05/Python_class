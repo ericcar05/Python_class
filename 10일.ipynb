{
  "nbformat": 4,
  "nbformat_minor": 0,
  "metadata": {
    "colab": {
      "provenance": [],
      "authorship_tag": "ABX9TyMM79AkZsmy6VQX2tM3/XjV",
      "include_colab_link": true
    },
    "kernelspec": {
      "name": "python3",
      "display_name": "Python 3"
    },
    "language_info": {
      "name": "python"
    }
  },
  "cells": [
    {
      "cell_type": "markdown",
      "metadata": {
        "id": "view-in-github",
        "colab_type": "text"
      },
      "source": [
        "<a href=\"https://colab.research.google.com/github/ericcar05/Python_class/blob/main/10%EC%9D%BC.ipynb\" target=\"_parent\"><img src=\"https://colab.research.google.com/assets/colab-badge.svg\" alt=\"Open In Colab\"/></a>"
      ]
    },
    {
      "cell_type": "code",
      "execution_count": 5,
      "metadata": {
        "colab": {
          "base_uri": "https://localhost:8080/"
        },
        "id": "bk1ivuIOsMTD",
        "outputId": "ea27f446-f8ba-4956-cc55-927053a96a6b"
      },
      "outputs": [
        {
          "output_type": "stream",
          "name": "stdout",
          "text": [
            "BlockDMask\n",
            "BlockDMask\n",
            "BlockDMask\n",
            "BlockDMask\n",
            "BlockDMask\n",
            "BlockDMask\n"
          ]
        }
      ],
      "source": [
        "def func1():\n",
        "\tprint(\"BlockDMask\")\n",
        "\n",
        "func1()\n",
        "func1()\n",
        "func1()\n",
        "\n",
        "for i in range(3):\n",
        "\tfunc1()"
      ]
    },
    {
      "cell_type": "code",
      "source": [
        "def func2(a,b):\n",
        "\tprint(f'{a} 곱하기 {b} = {a*b}')\n",
        "\n",
        "func2(1,2)\n",
        "func2(1,2)\n",
        "func2(3,4)"
      ],
      "metadata": {
        "colab": {
          "base_uri": "https://localhost:8080/"
        },
        "id": "aph9_nnMsPge",
        "outputId": "0500fc5b-7cb9-4c3c-c939-7a1118a9df81"
      },
      "execution_count": 6,
      "outputs": [
        {
          "output_type": "stream",
          "name": "stdout",
          "text": [
            "1 곱하기 2 = 2\n",
            "1 곱하기 2 = 2\n",
            "3 곱하기 4 = 12\n"
          ]
        }
      ]
    },
    {
      "cell_type": "code",
      "source": [
        "def func3():\n",
        "\treturn \"abcdefg\"\n",
        "\n",
        "a = func3()\n",
        "print(a, 'GG', sep=\" \")"
      ],
      "metadata": {
        "colab": {
          "base_uri": "https://localhost:8080/"
        },
        "id": "TBcvKOMtsQau",
        "outputId": "0897c736-3237-4831-a2c1-632b9cad3ddc"
      },
      "execution_count": 7,
      "outputs": [
        {
          "output_type": "stream",
          "name": "stdout",
          "text": [
            "abcdefg GG\n"
          ]
        }
      ]
    },
    {
      "cell_type": "code",
      "source": [
        "def func4(a,b):\n",
        "\treturn a + b\n",
        "\n",
        "a = input()\n",
        "c = func4(int(a), 9)\n",
        "print(c)"
      ],
      "metadata": {
        "colab": {
          "base_uri": "https://localhost:8080/"
        },
        "id": "N3rLZbEGsRj1",
        "outputId": "0b56b5db-34f4-49ac-de09-27c69259902e"
      },
      "execution_count": 8,
      "outputs": [
        {
          "output_type": "stream",
          "name": "stdout",
          "text": [
            "1\n",
            "10\n"
          ]
        }
      ]
    },
    {
      "cell_type": "code",
      "source": [
        "def func6(*args):\n",
        "\ta = 0\n",
        "\tfor i in args:\n",
        "\t\ta = a + i\n",
        "\treturn a\n",
        "\n",
        "b = func6(1,5)\n",
        "print(b)\n",
        "\n",
        "c = func6(2, 1, 3, 2)\n",
        "print(c)\n",
        "\n",
        "d = func6(1, 2, 3, 4, 5, 6, 7, 8)\n",
        "print(d)\n",
        "\n",
        "e = func6()\n",
        "print(e)"
      ],
      "metadata": {
        "colab": {
          "base_uri": "https://localhost:8080/"
        },
        "id": "MCPZeQPCsS2t",
        "outputId": "2d65cd2b-5337-4d26-e1d6-c9f840e30a66"
      },
      "execution_count": 21,
      "outputs": [
        {
          "output_type": "stream",
          "name": "stdout",
          "text": [
            "6\n",
            "8\n",
            "36\n",
            "0\n"
          ]
        }
      ]
    },
    {
      "cell_type": "code",
      "source": [
        "def test(*val):\n",
        "\tfor i in val:\n",
        "\t\tprint(i)\n",
        "\n",
        "test(1, 'a', 'b', 'c')"
      ],
      "metadata": {
        "colab": {
          "base_uri": "https://localhost:8080/"
        },
        "id": "MWi4SClDsUOw",
        "outputId": "b305949d-47c6-403a-efb0-cb417d84d2bf"
      },
      "execution_count": 11,
      "outputs": [
        {
          "output_type": "stream",
          "name": "stdout",
          "text": [
            "1\n",
            "a\n",
            "b\n",
            "c\n"
          ]
        }
      ]
    },
    {
      "cell_type": "code",
      "source": [
        "def sum_mul(choice, *val):\n",
        "\tif choice == 'sum':\n",
        "\t\tresult = 0\n",
        "\t\tfor i in val:\n",
        "\t\t\tresult = result + i\n",
        "\telif choice == 'mul':\n",
        "\t\tresult = 1\n",
        "\t\tfor i in val:\n",
        "\t\t\tresult = result + i\n",
        "\treturn result\n",
        "\n",
        "print(sum_mul('sum', 1,2,3,4,5))\n",
        "print(sum_mul('mul', 1,2,3,4,5))"
      ],
      "metadata": {
        "colab": {
          "base_uri": "https://localhost:8080/"
        },
        "id": "ykTm9sSJsVHW",
        "outputId": "6c72fd1d-7a53-4ccc-cffa-0e7c42997868"
      },
      "execution_count": 30,
      "outputs": [
        {
          "output_type": "stream",
          "name": "stdout",
          "text": [
            "15\n",
            "16\n"
          ]
        }
      ]
    },
    {
      "cell_type": "code",
      "source": [
        "def report(name, age, score):\n",
        "\tprint(name, score)\n",
        "\n",
        "report(age = 20, name = \"Seoung Hoon\", score = 100)\n",
        "report(\"Seoung Hoon\", 20, 100)"
      ],
      "metadata": {
        "colab": {
          "base_uri": "https://localhost:8080/"
        },
        "id": "cQklIFl4sWf-",
        "outputId": "7a01f025-175a-4086-8116-acc2bb6df9c8"
      },
      "execution_count": 31,
      "outputs": [
        {
          "output_type": "stream",
          "name": "stdout",
          "text": [
            "Seoung Hoon 100\n",
            "Seoung Hoon 100\n"
          ]
        }
      ]
    },
    {
      "cell_type": "code",
      "source": [
        "def gugudan(num):\n",
        "\tfor i in range(1,10):\n",
        "\t\tprint(f'{num} x {i} = {num + i}')\n",
        "\t\tprint()\n",
        "\n",
        "gugudan(2)\n",
        "\n",
        "gugudan(3)"
      ],
      "metadata": {
        "colab": {
          "base_uri": "https://localhost:8080/"
        },
        "id": "QHSFI4UYsX3W",
        "outputId": "07a6a7c3-0238-46d6-921e-65c58f7056b7"
      },
      "execution_count": 14,
      "outputs": [
        {
          "output_type": "stream",
          "name": "stdout",
          "text": [
            "2 x 1 = 3\n",
            "\n",
            "2 x 2 = 4\n",
            "\n",
            "2 x 3 = 5\n",
            "\n",
            "2 x 4 = 6\n",
            "\n",
            "2 x 5 = 7\n",
            "\n",
            "2 x 6 = 8\n",
            "\n",
            "2 x 7 = 9\n",
            "\n",
            "2 x 8 = 10\n",
            "\n",
            "2 x 9 = 11\n",
            "\n",
            "3 x 1 = 4\n",
            "\n",
            "3 x 2 = 5\n",
            "\n",
            "3 x 3 = 6\n",
            "\n",
            "3 x 4 = 7\n",
            "\n",
            "3 x 5 = 8\n",
            "\n",
            "3 x 6 = 9\n",
            "\n",
            "3 x 7 = 10\n",
            "\n",
            "3 x 8 = 11\n",
            "\n",
            "3 x 9 = 12\n",
            "\n"
          ]
        }
      ]
    },
    {
      "cell_type": "code",
      "source": [
        "# 예제 1\n",
        "def func1(a, b=5, c=10):\n",
        "\treturn a + b + c\n",
        "\n",
        "print(func1(1,2,3))\n",
        "print(func1(1,2))\n",
        "print(func1(a=1))\n",
        "\n",
        "def func2(a=10, b=20):\n",
        "\treturn a + b\n",
        "\n",
        "print(func2(1,2))\n",
        "print(func2(1))\n",
        "print(func2())"
      ],
      "metadata": {
        "colab": {
          "base_uri": "https://localhost:8080/"
        },
        "id": "RqSJ_eJmsZzf",
        "outputId": "c73f181c-6b9b-4088-b864-70774fb33a2b"
      },
      "execution_count": 15,
      "outputs": [
        {
          "output_type": "stream",
          "name": "stdout",
          "text": [
            "6\n",
            "13\n",
            "16\n",
            "3\n",
            "21\n",
            "30\n"
          ]
        }
      ]
    },
    {
      "cell_type": "code",
      "source": [
        "#def func3(a=10,b,c):\n",
        "\t#return a + b + c\n",
        "\n",
        "#func3(1,2)\n",
        "\n",
        "#func3( ,1,2)뒤에서부터 해야 인수가 비었을때 판단이 가능하다."
      ],
      "metadata": {
        "id": "ZFhFmuRcsbb3"
      },
      "execution_count": 20,
      "outputs": []
    },
    {
      "cell_type": "code",
      "source": [
        "def comp(score = 0):\n",
        "\tif score == 0:\n",
        "\t\treturn 0\n",
        "\telif score > 50:\n",
        "\t\treturn 2\n",
        "\telse:\n",
        "\t\treturn 1\n",
        "\n",
        "grade = comp(40)\n",
        "print(\"Grade is \", grade, \"for\", 40)\n",
        "\n",
        "grade = comp(80)\n",
        "print(\"Grade is \", grade, \"for \", 80)\n",
        "\n",
        "grade = comp()\n",
        "print(\"Grade is \", grade, \"for \", \"for no score\")"
      ],
      "metadata": {
        "colab": {
          "base_uri": "https://localhost:8080/"
        },
        "id": "w_lmkFnFsdKF",
        "outputId": "c9d3c1f6-6bd3-4b8c-cf48-1f793568c32b"
      },
      "execution_count": 17,
      "outputs": [
        {
          "output_type": "stream",
          "name": "stdout",
          "text": [
            "Grade is  1 for 40\n",
            "Grade is  2 for  80\n",
            "Grade is  0 for  for no score\n"
          ]
        }
      ]
    }
  ]
}