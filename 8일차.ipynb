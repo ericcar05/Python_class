{
  "nbformat": 4,
  "nbformat_minor": 0,
  "metadata": {
    "colab": {
      "provenance": [],
      "authorship_tag": "ABX9TyPZF1hjFkFZNv9zOG6LLTOi",
      "include_colab_link": true
    },
    "kernelspec": {
      "name": "python3",
      "display_name": "Python 3"
    },
    "language_info": {
      "name": "python"
    }
  },
  "cells": [
    {
      "cell_type": "markdown",
      "metadata": {
        "id": "view-in-github",
        "colab_type": "text"
      },
      "source": [
        "<a href=\"https://colab.research.google.com/github/ericcar05/Python_class/blob/main/8%EC%9D%BC%EC%B0%A8.ipynb\" target=\"_parent\"><img src=\"https://colab.research.google.com/assets/colab-badge.svg\" alt=\"Open In Colab\"/></a>"
      ]
    },
    {
      "cell_type": "code",
      "execution_count": 1,
      "metadata": {
        "colab": {
          "base_uri": "https://localhost:8080/"
        },
        "id": "IWvlGxKXhbqk",
        "outputId": "08512937-c219-4787-ae5b-045e7c6ba06d"
      },
      "outputs": [
        {
          "output_type": "stream",
          "name": "stdout",
          "text": [
            "True\n",
            "True\n",
            "False\n",
            "False\n",
            "True\n",
            "True\n"
          ]
        }
      ],
      "source": [
        "text1 = \"네이스123\"\n",
        "text2 = \"1231231\"\n",
        "text3 = \"!@#\"\n",
        "text4 = \"!#1234\"\n",
        "text5 = \"nice\"\n",
        "text6 = \"nicew1234\"\n",
        "print(text1.isalnum())\n",
        "print(text2.isalnum())\n",
        "print(text3.isalnum())\n",
        "print(text4.isalnum())\n",
        "print(text5.isalnum())\n",
        "print(text6.isalnum())\n"
      ]
    },
    {
      "cell_type": "code",
      "source": [
        "text = \"!#@#!@$!!@%@%!@@$231@3131이!!#@!네!@스$\"\n",
        "text1 = \"네이스\"\n",
        "text2 = \"123123\"\n",
        "text3 = \"!@#!\"\n",
        "check = \"\"\n",
        "print(text1.isalpha())\n",
        "print(text2.isalpha())\n",
        "print(text3.isalpha())\n",
        "for i in text:\n",
        "    if i.isalpha():\n",
        "        check += i\n",
        "print(check)"
      ],
      "metadata": {
        "colab": {
          "base_uri": "https://localhost:8080/"
        },
        "id": "Bd4AbG6OheUo",
        "outputId": "9306d67d-1e9e-4503-f3cd-9da7c3b9c363"
      },
      "execution_count": 2,
      "outputs": [
        {
          "output_type": "stream",
          "name": "stdout",
          "text": [
            "True\n",
            "False\n",
            "False\n",
            "이네스\n"
          ]
        }
      ]
    },
    {
      "cell_type": "code",
      "source": [
        "a = \"BlockDMask\"\n",
        "b = \"1234Blog\"\n",
        "c = \"1231231\"\n",
        "d = \"-234\"\n",
        "e = \"1.23\"\n",
        "f = \"3\"\n",
        "g = '2/3'\n",
        "h = \"0\"\n",
        "print(f\"'{a}' .isdigit() : {str.isdigit(a)}\")\n",
        "print(f\"'{b}' .isdigit() : {str.isdigit(b)}\")\n",
        "print(f\"'{c}' .isdigit() : {str.isdigit(c)}\")\n",
        "print(f\"'{d}' .isdigit() : {str.isdigit(d)}\")\n",
        "print(f\"'{e}' .isdigit() : {str.isdigit(e)}\")\n"
      ],
      "metadata": {
        "colab": {
          "base_uri": "https://localhost:8080/"
        },
        "id": "bmT7J7t0hfYr",
        "outputId": "8bee0658-19a4-4fc8-aaa6-66b80b76abdc"
      },
      "execution_count": 3,
      "outputs": [
        {
          "output_type": "stream",
          "name": "stdout",
          "text": [
            "'BlockDMask' .isdigit() : False\n",
            "'1234Blog' .isdigit() : False\n",
            "'1231231' .isdigit() : True\n",
            "'-234' .isdigit() : False\n",
            "'1.23' .isdigit() : False\n"
          ]
        }
      ]
    },
    {
      "cell_type": "code",
      "source": [
        "a = '123456789'\n",
        "print(a.isdigit())\n",
        "print(a.isdecimal())\n",
        "print(a.isnumeric())\n",
        "print('\\n\\n')\n",
        "x ='3'\n",
        "print(x)\n",
        "print(x.isdigit())\n",
        "# True\n",
        "print(x.isdecimal())\n",
        "# False\n",
        "print(x.isnumeric())"
      ],
      "metadata": {
        "colab": {
          "base_uri": "https://localhost:8080/"
        },
        "id": "H0fYkiF0hgnJ",
        "outputId": "2a3394ab-5b24-4de8-bea7-a2d228fb577a"
      },
      "execution_count": 4,
      "outputs": [
        {
          "output_type": "stream",
          "name": "stdout",
          "text": [
            "True\n",
            "True\n",
            "True\n",
            "\n",
            "\n",
            "\n",
            "3\n",
            "True\n",
            "True\n",
            "True\n"
          ]
        }
      ]
    },
    {
      "cell_type": "code",
      "source": [
        "a = \"I Love Python\"\n",
        "\n",
        "print(a.islower())\n",
        "print(a.islower())\n",
        "print(a.upper())\n",
        "print(a.lower())\n",
        "\n",
        "print('\\n\\n')\n",
        "\n",
        "str = \"This is string example...wow!!!\"\n",
        "print(str.islower())\n",
        "print(str.upper())\n",
        "\n",
        "str = \"this is string example...wow!!!\"\n",
        "print(str.islower())"
      ],
      "metadata": {
        "colab": {
          "base_uri": "https://localhost:8080/"
        },
        "id": "RNWJ1fKHhi1o",
        "outputId": "7db7f80d-a890-494f-90b8-7fbd8d8b0089"
      },
      "execution_count": 5,
      "outputs": [
        {
          "output_type": "stream",
          "name": "stdout",
          "text": [
            "False\n",
            "False\n",
            "I LOVE PYTHON\n",
            "i love python\n",
            "\n",
            "\n",
            "\n",
            "False\n",
            "THIS IS STRING EXAMPLE...WOW!!!\n",
            "True\n"
          ]
        }
      ]
    },
    {
      "cell_type": "code",
      "source": [
        "str = \"This is string Example...Wow!!!\"\n",
        "print(str.swapcase())\n",
        "\n",
        "str = \"THIsis stRINg eXample...Wow!!!   1234\"\n",
        "print(str.swapcase())"
      ],
      "metadata": {
        "colab": {
          "base_uri": "https://localhost:8080/"
        },
        "id": "bH1wiPpzhlYo",
        "outputId": "eac51860-ae20-4b78-c43c-90bcd3db9bc6"
      },
      "execution_count": 6,
      "outputs": [
        {
          "output_type": "stream",
          "name": "stdout",
          "text": [
            "tHIS IS STRING eXAMPLE...wOW!!!\n",
            "thiSIS STrinG ExAMPLE...wOW!!!   1234\n"
          ]
        }
      ]
    },
    {
      "cell_type": "code",
      "source": [
        "str = \"This Is String Example...Wow!!!\"\n",
        "print(str.istitle())\n",
        "\n",
        "str = \"This is string example...Wow!!!\"\n",
        "print(str.istitle())\n",
        "print(str.title())"
      ],
      "metadata": {
        "colab": {
          "base_uri": "https://localhost:8080/"
        },
        "id": "_QdpcwJjhmUT",
        "outputId": "26e418a6-d7e1-4d0b-d152-8808e2318228"
      },
      "execution_count": 7,
      "outputs": [
        {
          "output_type": "stream",
          "name": "stdout",
          "text": [
            "True\n",
            "False\n",
            "This Is String Example...Wow!!!\n"
          ]
        }
      ]
    },
    {
      "cell_type": "code",
      "source": [
        "print('hello world!'.capitalize())\n",
        "print('HELLO WORLD!'.capitalize())"
      ],
      "metadata": {
        "colab": {
          "base_uri": "https://localhost:8080/"
        },
        "id": "PFMcvJgRhnGS",
        "outputId": "8894087e-3d20-46c7-9087-3c9b912ec8bd"
      },
      "execution_count": 8,
      "outputs": [
        {
          "output_type": "stream",
          "name": "stdout",
          "text": [
            "Hello world!\n",
            "Hello world!\n"
          ]
        }
      ]
    }
  ]
}