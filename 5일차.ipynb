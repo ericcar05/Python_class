{
  "nbformat": 4,
  "nbformat_minor": 0,
  "metadata": {
    "colab": {
      "provenance": [],
      "authorship_tag": "ABX9TyMzLrn0y8VGZ+esxcd934J0",
      "include_colab_link": true
    },
    "kernelspec": {
      "name": "python3",
      "display_name": "Python 3"
    },
    "language_info": {
      "name": "python"
    }
  },
  "cells": [
    {
      "cell_type": "markdown",
      "metadata": {
        "id": "view-in-github",
        "colab_type": "text"
      },
      "source": [
        "<a href=\"https://colab.research.google.com/github/ericcar05/Python_class/blob/main/5%EC%9D%BC%EC%B0%A8.ipynb\" target=\"_parent\"><img src=\"https://colab.research.google.com/assets/colab-badge.svg\" alt=\"Open In Colab\"/></a>"
      ]
    },
    {
      "cell_type": "code",
      "execution_count": null,
      "metadata": {
        "id": "2fwEH6omDHTE"
      },
      "outputs": [],
      "source": [
        "'''\n",
        "if(조건):\n",
        " 수행 할 문장\n",
        " 수행 할 문장\n",
        "else:\n",
        " 수행 할 문장\n",
        " 수행 할 문장\n",
        "'''"
      ]
    },
    {
      "cell_type": "code",
      "source": [
        "#1-1\n",
        "name = \"BlockDMask\"\n",
        "if name == \"BlockDMask\":\n",
        " print(\"이름이 맞습니다.\")\n",
        "else:\n",
        " print(\"이름이 다릅니다.\")"
      ],
      "metadata": {
        "colab": {
          "base_uri": "https://localhost:8080/"
        },
        "id": "J4cZp3lVEIIQ",
        "outputId": "1952d757-8b39-4b1a-89b1-3e99ea3c4b93"
      },
      "execution_count": 23,
      "outputs": [
        {
          "output_type": "stream",
          "name": "stdout",
          "text": [
            "이름이 맞습니다.\n"
          ]
        }
      ]
    },
    {
      "cell_type": "code",
      "source": [
        "#1-2\n",
        "pocket = 1000\n",
        "if pocket == 1000:\n",
        " print(\"복권 구매\")\n",
        "elif pocket == 500:\n",
        " print(\"껌 구매\")\n",
        "else:\n",
        " print(\"집이나 가자\")"
      ],
      "metadata": {
        "colab": {
          "base_uri": "https://localhost:8080/"
        },
        "id": "yuSlY4eAELWS",
        "outputId": "07909777-6395-4432-f1b6-20250f38b4d0"
      },
      "execution_count": 24,
      "outputs": [
        {
          "output_type": "stream",
          "name": "stdout",
          "text": [
            "복권 구매\n"
          ]
        }
      ]
    },
    {
      "cell_type": "code",
      "source": [
        "#2-1\n",
        "a = '사과'\n",
        "b = '바나나'\n",
        "c = '치즈'\n",
        "if a == '사과' or b == '안바나나':\n",
        "  print('사과 이거나 바나나 입니다')\n",
        "if a == '사과' and b == '안바나나':\n",
        "  print('사과 이고 바나나 입니다')\n",
        "if not a == '사과' :\n",
        "  print('사과가 아니어야 여기 들어옵니다.')"
      ],
      "metadata": {
        "colab": {
          "base_uri": "https://localhost:8080/"
        },
        "id": "AMsm8dYZENGw",
        "outputId": "4af804da-12d6-4be4-81df-0d1aec9683df"
      },
      "execution_count": 25,
      "outputs": [
        {
          "output_type": "stream",
          "name": "stdout",
          "text": [
            "사과 이거나 바나나 입니다\n"
          ]
        }
      ]
    },
    {
      "cell_type": "code",
      "source": [
        "#2-2\n",
        "a = [1,2,3,4,5,6,7,8]\n",
        "if 1 in a:\n",
        "  print(\"a 리스트에 1이 포함되어있습니다.\")\n",
        "elif 10 in a:\n",
        "  print(\"a 리스트에 10이 포함되어있습니다.\")"
      ],
      "metadata": {
        "colab": {
          "base_uri": "https://localhost:8080/"
        },
        "id": "Ipsg4E8GEQS4",
        "outputId": "f0b83585-e5da-4006-956f-4dcb37f80f0c"
      },
      "execution_count": 26,
      "outputs": [
        {
          "output_type": "stream",
          "name": "stdout",
          "text": [
            "a 리스트에 1이 포함되어있습니다.\n"
          ]
        }
      ]
    },
    {
      "cell_type": "code",
      "source": [
        "p_class = \"Z\"\n",
        "sel_amount = 79900\n",
        "\n",
        "if p_class == \"A\":\n",
        "  sel_amount *= 0.7\n",
        "  print(sel_amount)\n",
        "elif p_class == \"B\":\n",
        "  sel_amount *= 0.85\n",
        "  print(sel_amount)\n",
        "elif p_class == \"C\":\n",
        "  sel_amount *= 0.92\n",
        "  print(sel_amount)\n",
        "elif p_class == \"Z\":\n",
        "  sel_amount += 5000\n",
        "  print(sel_amount)"
      ],
      "metadata": {
        "colab": {
          "base_uri": "https://localhost:8080/"
        },
        "id": "Tk1NLeXCESng",
        "outputId": "feff7fa9-ae94-41d1-c2af-74acbc316acd"
      },
      "execution_count": 27,
      "outputs": [
        {
          "output_type": "stream",
          "name": "stdout",
          "text": [
            "84900\n"
          ]
        }
      ]
    },
    {
      "cell_type": "code",
      "source": [
        "#4-1\n",
        "p_class = \"Z\"\n",
        "sel_amount = 79900\n",
        "\n",
        "if p_class == \"A\":\n",
        "  sel_amount *= 0.7 # 55930.0\n",
        "  print(f'판매가는 {sel_amount}원 입니다.')\n",
        "elif p_class == \"B\":\n",
        "  sel_amount *= 0.85 # 67915.0\n",
        "  print(f'판매가는 {sel_amount}원 입니다.')\n",
        "elif p_class == \"C\":\n",
        "  sel_amount *= 0.92# 84900\n",
        "  print(f'판매가는 {sel_amount}원 입니다.')\n",
        "elif p_class == \"Z\":\n",
        "  sel_amount += 5000 # 84900\n",
        "  print(f'판매가는 {sel_amount}원 입니다.')"
      ],
      "metadata": {
        "colab": {
          "base_uri": "https://localhost:8080/"
        },
        "id": "9jub54b5EV-D",
        "outputId": "03ace7a6-7c69-4f04-cc34-db849e5acd85"
      },
      "execution_count": 28,
      "outputs": [
        {
          "output_type": "stream",
          "name": "stdout",
          "text": [
            "판매가는 84900원 입니다.\n"
          ]
        }
      ]
    },
    {
      "cell_type": "code",
      "source": [
        "#4-2\n",
        "x = 11\n",
        "\n",
        "if x< 10:\n",
        "  print('x는 10보다 작아!')\n",
        "else:\n",
        "  print('x는 10보다 작아 않아!')"
      ],
      "metadata": {
        "colab": {
          "base_uri": "https://localhost:8080/"
        },
        "id": "jgw3QTz3EXUH",
        "outputId": "df376a43-a0e4-4741-e42f-8f760829ac26"
      },
      "execution_count": 29,
      "outputs": [
        {
          "output_type": "stream",
          "name": "stdout",
          "text": [
            "x는 10보다 작아 않아!\n"
          ]
        }
      ]
    },
    {
      "cell_type": "code",
      "source": [
        "#4-3\n",
        "x = 2\n",
        "\n",
        "if x%2 == 0:\n",
        "  print('x는 짝수야!')\n",
        "else:\n",
        "  print('x는 홀수야!')"
      ],
      "metadata": {
        "colab": {
          "base_uri": "https://localhost:8080/"
        },
        "id": "oxCRX1R1EYtS",
        "outputId": "7a4b888b-ed4f-4705-d74a-ff855f40fd60"
      },
      "execution_count": 30,
      "outputs": [
        {
          "output_type": "stream",
          "name": "stdout",
          "text": [
            "x는 짝수야!\n"
          ]
        }
      ]
    },
    {
      "cell_type": "code",
      "source": [
        "#5\n",
        "x = 3\n",
        "\n",
        "if x < 10:\n",
        "  print('x는 10보다 작아!')\n",
        "  if x%2 == 0:\n",
        "    print('x는 짝수야!')\n",
        "  else:\n",
        "    print('x는 홀수야!')\n",
        "else:\n",
        "  print('x는 10보다 커!')\n",
        "  if x%2 == 0:\n",
        "    print('x는 짝수야!')\n",
        "  else:\n",
        "    print('x는 홀수야!')"
      ],
      "metadata": {
        "colab": {
          "base_uri": "https://localhost:8080/"
        },
        "id": "iVDs5xyLEZzU",
        "outputId": "7377a7d7-0205-4bd1-d13d-0afff822c9f4"
      },
      "execution_count": 31,
      "outputs": [
        {
          "output_type": "stream",
          "name": "stdout",
          "text": [
            "x는 10보다 작아!\n",
            "x는 홀수야!\n"
          ]
        }
      ]
    },
    {
      "cell_type": "code",
      "source": [
        "#6\n",
        "x = 3\n",
        "\n",
        "if x<10 and x%2==0:\n",
        "  print('x는 10보다 작으면서 짝수야!')\n",
        "if x<10 and not x%2==0:\n",
        "  print('x는 10보다 작으면서 홀수야!')\n",
        "if not x<10 and x%2==0:\n",
        "  print('x는 10보다 크면서 짝수야!')\n",
        "if not x<10 and not x%2==0:\n",
        "  print('x는 10보다 크면서 홀수야!')"
      ],
      "metadata": {
        "colab": {
          "base_uri": "https://localhost:8080/"
        },
        "id": "g5EgLA0rEbRG",
        "outputId": "71412d20-d1e1-4852-e662-f0d8f42e7db2"
      },
      "execution_count": 32,
      "outputs": [
        {
          "output_type": "stream",
          "name": "stdout",
          "text": [
            "x는 10보다 작으면서 홀수야!\n"
          ]
        }
      ]
    },
    {
      "cell_type": "code",
      "source": [
        "'''\n",
        "while(조건문):\n",
        "  <수행할 문장1>\n",
        "  <수행할 문장2>\n",
        "  <수행할 문장3>\n",
        "'''"
      ],
      "metadata": {
        "id": "e3GrwIDjEcft"
      },
      "execution_count": null,
      "outputs": []
    },
    {
      "cell_type": "code",
      "source": [
        "#while\n",
        "treeHit = 0\n",
        "\n",
        "while treeHit < 10:\n",
        "  treeHit += 1\n",
        "  print(\"나무를 %d번 찍었습니다.\"%treeHit)\n",
        "  if treeHit == 10:\n",
        "    print(\"나무 넘어갑니다.\")"
      ],
      "metadata": {
        "colab": {
          "base_uri": "https://localhost:8080/"
        },
        "id": "pfE0nfi2Ew0y",
        "outputId": "13c312e5-85a7-4a92-e70c-45109686e3ae"
      },
      "execution_count": 34,
      "outputs": [
        {
          "output_type": "stream",
          "name": "stdout",
          "text": [
            "나무를 1번 찍었습니다.\n",
            "나무를 2번 찍었습니다.\n",
            "나무를 3번 찍었습니다.\n",
            "나무를 4번 찍었습니다.\n",
            "나무를 5번 찍었습니다.\n",
            "나무를 6번 찍었습니다.\n",
            "나무를 7번 찍었습니다.\n",
            "나무를 8번 찍었습니다.\n",
            "나무를 9번 찍었습니다.\n",
            "나무를 10번 찍었습니다.\n",
            "나무 넘어갑니다.\n"
          ]
        }
      ]
    },
    {
      "cell_type": "code",
      "source": [
        "#break\n",
        "coffee = 10\n",
        "money = 300\n",
        "while money:\n",
        "  print(\"돈을 받았으니 커피를 줍니다.\")\n",
        "  coffee -= 1\n",
        "  print(\"남은 커피의 양은 %d개 입니다.\"%coffee)\n",
        "  if coffee == 0:\n",
        "    print(\"커피가 다 떨어졌습니다. 판매를 중지합니다.\")\n",
        "    break"
      ],
      "metadata": {
        "colab": {
          "base_uri": "https://localhost:8080/"
        },
        "id": "KPYHgt3gEzFQ",
        "outputId": "30f48d52-abc6-457b-f725-7ed5cee42234"
      },
      "execution_count": 35,
      "outputs": [
        {
          "output_type": "stream",
          "name": "stdout",
          "text": [
            "돈을 받았으니 커피를 줍니다.\n",
            "남은 커피의 양은 9개 입니다.\n",
            "돈을 받았으니 커피를 줍니다.\n",
            "남은 커피의 양은 8개 입니다.\n",
            "돈을 받았으니 커피를 줍니다.\n",
            "남은 커피의 양은 7개 입니다.\n",
            "돈을 받았으니 커피를 줍니다.\n",
            "남은 커피의 양은 6개 입니다.\n",
            "돈을 받았으니 커피를 줍니다.\n",
            "남은 커피의 양은 5개 입니다.\n",
            "돈을 받았으니 커피를 줍니다.\n",
            "남은 커피의 양은 4개 입니다.\n",
            "돈을 받았으니 커피를 줍니다.\n",
            "남은 커피의 양은 3개 입니다.\n",
            "돈을 받았으니 커피를 줍니다.\n",
            "남은 커피의 양은 2개 입니다.\n",
            "돈을 받았으니 커피를 줍니다.\n",
            "남은 커피의 양은 1개 입니다.\n",
            "돈을 받았으니 커피를 줍니다.\n",
            "남은 커피의 양은 0개 입니다.\n",
            "커피가 다 떨어졌습니다. 판매를 중지합니다.\n"
          ]
        }
      ]
    },
    {
      "cell_type": "code",
      "source": [
        "#1번 방법\n",
        "j = 0\n",
        "result1 = 0\n",
        "while True:\n",
        "  if j > 100:\n",
        "    break\n",
        "\n",
        "  j +=1\n",
        "  if j % 2 == 0:\n",
        "    result1 += j\n",
        "\n",
        "print('1번 방법 (break) : {0}'.format(result1))"
      ],
      "metadata": {
        "colab": {
          "base_uri": "https://localhost:8080/"
        },
        "id": "7TfqwCMeE5Uy",
        "outputId": "28d2f0f3-47e6-41d9-e792-8b52f29a20d2"
      },
      "execution_count": 36,
      "outputs": [
        {
          "output_type": "stream",
          "name": "stdout",
          "text": [
            "1번 방법 (break) : 2550\n"
          ]
        }
      ]
    },
    {
      "cell_type": "code",
      "source": [
        "#2번 방법\n",
        "k = 0\n",
        "result2 = 0\n",
        "while k < 100:\n",
        "  k += 1\n",
        "  if k % 2 != 0:\n",
        "    continue\n",
        "\n",
        "  result2 += k\n",
        "\n",
        "print('2번 방법 (continue) : {0}'.format(result2))"
      ],
      "metadata": {
        "colab": {
          "base_uri": "https://localhost:8080/"
        },
        "id": "aWSCh7e_E6iL",
        "outputId": "45e4b381-766a-4a9f-ade0-69c222528c98"
      },
      "execution_count": 37,
      "outputs": [
        {
          "output_type": "stream",
          "name": "stdout",
          "text": [
            "2번 방법 (continue) : 2550\n"
          ]
        }
      ]
    }
  ]
}