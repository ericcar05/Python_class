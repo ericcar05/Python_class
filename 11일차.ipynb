{
  "nbformat": 4,
  "nbformat_minor": 0,
  "metadata": {
    "colab": {
      "provenance": [],
      "authorship_tag": "ABX9TyOBU/UfO+tHaXdeUOzDseYf",
      "include_colab_link": true
    },
    "kernelspec": {
      "name": "python3",
      "display_name": "Python 3"
    },
    "language_info": {
      "name": "python"
    }
  },
  "cells": [
    {
      "cell_type": "markdown",
      "metadata": {
        "id": "view-in-github",
        "colab_type": "text"
      },
      "source": [
        "<a href=\"https://colab.research.google.com/github/ericcar05/Python_class/blob/main/11%EC%9D%BC%EC%B0%A8.ipynb\" target=\"_parent\"><img src=\"https://colab.research.google.com/assets/colab-badge.svg\" alt=\"Open In Colab\"/></a>"
      ]
    },
    {
      "cell_type": "code",
      "execution_count": 100,
      "metadata": {
        "id": "jPex174kwoCd"
      },
      "outputs": [],
      "source": [
        "f = open(\"newfile.txt\", 'w')\n",
        "f.close()\n",
        "\n",
        "f = open(\"/content/newfile.txt\", 'w') # directory 사용\n",
        "f.close()"
      ]
    },
    {
      "cell_type": "code",
      "source": [
        "f=open(\"/content/ex_memo.txt\",\"w\")\n",
        "students=['이민준','윤동현','혜원 진','깅지원']\n",
        "for student in students:\n",
        "  msg=student\n",
        "  f.write(msg+\"\\n\")\n",
        "f.close()"
      ],
      "metadata": {
        "id": "fQH5GLEpzvOO"
      },
      "execution_count": 101,
      "outputs": []
    },
    {
      "cell_type": "code",
      "source": [
        "file=open(\"/content/hello.txt\",'wt')\n",
        "file.write(\"미국 거지가 한국천재보다 영어를 잘한다.\")\n",
        "file.close()"
      ],
      "metadata": {
        "id": "fCOwSUpW1LRH"
      },
      "execution_count": 123,
      "outputs": []
    },
    {
      "cell_type": "code",
      "source": [
        "f=open(\"/content/test.txt\",\"a\",encoding='UTF-8')\n",
        "\n",
        "for i in range(4,10):\n",
        "  data=\"%d 번째 줄입니다.\\n\"%i\n",
        "  f.write(data)\n",
        "f.close()"
      ],
      "metadata": {
        "id": "vS8VEzr01jFl"
      },
      "execution_count": 103,
      "outputs": []
    },
    {
      "cell_type": "code",
      "source": [
        "dict1 = {'hello':1,'brother':2}\n",
        "\n",
        "file1 = open(\"Original.txt\",\"w\")\n",
        "\n",
        "st = repr(dict1)\n",
        "\n",
        "file1.write(\"dict1 = \"+st+\"\\n\")\n",
        "\n",
        "file1.close()"
      ],
      "metadata": {
        "id": "SeeT-ZFqFVHs"
      },
      "execution_count": 125,
      "outputs": []
    },
    {
      "cell_type": "code",
      "source": [
        "test_file = open(\"test2.txt\",\"w\")\n",
        "\n",
        "a = 23\n",
        "\n",
        "b = 58\n",
        "\n",
        "test_file.write('%d + %d = %d' %(a, b, a+b)+'\\n')\n",
        "\n",
        "test_file.write('%d - %d = %d' %(a, b, a-b))\n",
        "\n",
        "test_file.close()"
      ],
      "metadata": {
        "id": "37fwNYbEFZdk"
      },
      "execution_count": 126,
      "outputs": []
    },
    {
      "cell_type": "code",
      "source": [
        "from random import randint\n",
        "\n",
        "with open('text3.txt', 'w') as f:\n",
        "    f.write('이번주 로또 번호는 ->')\n",
        "    for lotto in range(6):\n",
        "      f.write(str(randint(0, 50))+',')"
      ],
      "metadata": {
        "id": "K21avWwoFau1"
      },
      "execution_count": 118,
      "outputs": []
    },
    {
      "cell_type": "code",
      "source": [
        "lines = ['안녕하세요.\\n', '파이썬\\n', '코딩 도장입니다 \\n']\n",
        "\n",
        "with open('hello.txt', 'w') as file:\n",
        "  file.writelines(lines)\n",
        "\n",
        "file.close()"
      ],
      "metadata": {
        "id": "eks4VbzfFbyF"
      },
      "execution_count": 127,
      "outputs": []
    },
    {
      "cell_type": "code",
      "source": [
        "f = open('ex_memo1.txt','w')\n",
        "students = ['김철수', '최영', '한석규', '김태희']\n",
        "for student in students:\n",
        "    msg = student\n",
        "    f.write(msg+\"\\n\")\n",
        "f.close()\n",
        "\n",
        "\n",
        "f = open('ex_memo1.txt','w')\n",
        "students = ['김철수', '최영', '한석규', '김태희']\n",
        "f.writelines('\\n'.join(students))\n",
        "f.close()"
      ],
      "metadata": {
        "id": "XyQ1LRQRFdKF"
      },
      "execution_count": 128,
      "outputs": []
    },
    {
      "cell_type": "code",
      "source": [
        "print('\\n1.read()')\n",
        "print(f'위치 : {f.tell()}')\n",
        "s1 = f.read(2)\n",
        "print(s1)"
      ],
      "metadata": {
        "id": "7WOcuO7jzXv8"
      },
      "execution_count": null,
      "outputs": []
    },
    {
      "cell_type": "code",
      "source": [
        "print('\\n2.readline()')\n",
        "print(f'위치 : {f.tell()}')\n",
        "\n",
        "s2 = f.readline()\n",
        "print(s2)\n",
        "\n",
        "s2 = f.readline()\n",
        "print(s2)"
      ],
      "metadata": {
        "id": "5-uvA0TqzaBI"
      },
      "execution_count": null,
      "outputs": []
    },
    {
      "cell_type": "code",
      "source": [
        "print('\\n2.readline()')\n",
        "print(f'위치 : {f.tell()}')\n",
        "\n",
        "s2 = f.readlines()\n",
        "print(s2)"
      ],
      "metadata": {
        "id": "nqh4sWSnzbD4"
      },
      "execution_count": null,
      "outputs": []
    },
    {
      "cell_type": "code",
      "source": [
        "print('\\n1. read()')\n",
        "print(f'위치 : {f.tell()}')\n",
        "s1 = f.read(1)\n",
        "print(s1)\n",
        "print(f'위치 : {f.tell()}')\n",
        "s1 = f.read(1)\n",
        "print(s1)\n",
        "\n",
        "print(f'위치 : {f.tell()}')"
      ],
      "metadata": {
        "id": "hfSnZbY5zcEK"
      },
      "execution_count": null,
      "outputs": []
    },
    {
      "cell_type": "code",
      "source": [
        "f = open('test.txt', 'r', encoding='UTF-8')\n",
        "line = f.readline()\n",
        "line = line.strip()\n",
        "print(line)\n",
        "line = f.readline()\n",
        "line = line.strip()\n",
        "print(line)\n",
        "line = f.readline()\n",
        "line = line.strip()\n",
        "print(line)\n",
        "line = f.readline()\n",
        "line = line.strip()\n",
        "print(line)\n",
        "line = f.readline()\n",
        "line = line.strip()\n",
        "\n",
        "f.close()"
      ],
      "metadata": {
        "colab": {
          "base_uri": "https://localhost:8080/"
        },
        "id": "MZzxQxUQzdDw",
        "outputId": "0111a7b6-27c4-4cfd-f648-3d426e739072"
      },
      "execution_count": 122,
      "outputs": [
        {
          "output_type": "stream",
          "name": "stdout",
          "text": [
            "4 번째 줄입니다.\n",
            "5 번째 줄입니다.\n",
            "6 번째 줄입니다.\n",
            "7 번째 줄입니다.\n"
          ]
        }
      ]
    },
    {
      "cell_type": "code",
      "source": [
        "f = open(r'text.txt')\n",
        "\n",
        "print('\\n4. seek(0), readline()')\n",
        "\n",
        "f.seek(0)\n",
        "print(f'위치 : {f.tell()}')\n",
        "\n",
        "s4 = f.readline()\n",
        "print(s4)\n",
        "\n",
        "f.close()\n"
      ],
      "metadata": {
        "colab": {
          "base_uri": "https://localhost:8080/"
        },
        "id": "mKS0yM1wzeF0",
        "outputId": "0ce5a547-b56c-4a3a-b22f-021e7c20037e"
      },
      "execution_count": 119,
      "outputs": [
        {
          "output_type": "stream",
          "name": "stdout",
          "text": [
            "\n",
            "4. seek(0), readline()\n",
            "위치 : 0\n",
            "이번주 로또 번호는 ->\n"
          ]
        }
      ]
    }
  ]
}