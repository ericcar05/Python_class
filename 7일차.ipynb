{
  "nbformat": 4,
  "nbformat_minor": 0,
  "metadata": {
    "colab": {
      "provenance": [],
      "authorship_tag": "ABX9TyM+MGFpI7Fna9nGMq70Lh8M",
      "include_colab_link": true
    },
    "kernelspec": {
      "name": "python3",
      "display_name": "Python 3"
    },
    "language_info": {
      "name": "python"
    }
  },
  "cells": [
    {
      "cell_type": "markdown",
      "metadata": {
        "id": "view-in-github",
        "colab_type": "text"
      },
      "source": [
        "<a href=\"https://colab.research.google.com/github/ericcar05/Python_class/blob/main/7%EC%9D%BC%EC%B0%A8.ipynb\" target=\"_parent\"><img src=\"https://colab.research.google.com/assets/colab-badge.svg\" alt=\"Open In Colab\"/></a>"
      ]
    },
    {
      "cell_type": "code",
      "execution_count": 4,
      "metadata": {
        "colab": {
          "base_uri": "https://localhost:8080/"
        },
        "id": "JzlyGluK48iw",
        "outputId": "9d96607a-d0c4-4a7c-a110-a2b8092d866f"
      },
      "outputs": [
        {
          "output_type": "stream",
          "name": "stdout",
          "text": [
            "13\n"
          ]
        }
      ],
      "source": [
        "a = 'I Love Python'\n",
        "print(len(a))"
      ]
    },
    {
      "cell_type": "code",
      "source": [
        "name = 'BlockDMask'\n",
        "phone = '010 3268 0227'\n",
        "address = 'korea'\n",
        "print(len(name))\n",
        "print(len(phone))\n",
        "print(len(address))"
      ],
      "metadata": {
        "colab": {
          "base_uri": "https://localhost:8080/"
        },
        "id": "UFJllS2W5BnF",
        "outputId": "511a4251-d600-483c-bd84-cc9263b8bd95"
      },
      "execution_count": 5,
      "outputs": [
        {
          "output_type": "stream",
          "name": "stdout",
          "text": [
            "10\n",
            "13\n",
            "5\n"
          ]
        }
      ]
    },
    {
      "cell_type": "code",
      "source": [
        "a = [1, 2, 3]\n",
        "print(min(a))\n",
        "\n",
        "b = 'cBlockDMask'\n",
        "print(min(b))\n",
        "\n",
        "#c = 1\n",
        "#print(min(c)) 값이 하나만 있어 에러 발생\n",
        "\n",
        "d = (6, 5, 4, 2)\n",
        "print(min(d))\n",
        "\n",
        "#e = [3,4,5, 'a','b','c']\n",
        "#print(min(e)) 문자열과 숫자 혼용해 에러발생"
      ],
      "metadata": {
        "colab": {
          "base_uri": "https://localhost:8080/"
        },
        "id": "mDFL5NkO5C6c",
        "outputId": "e50ca962-6f60-446b-99dc-f995dd75eadb"
      },
      "execution_count": 6,
      "outputs": [
        {
          "output_type": "stream",
          "name": "stdout",
          "text": [
            "1\n",
            "B\n",
            "2\n"
          ]
        }
      ]
    },
    {
      "cell_type": "code",
      "source": [
        "e=[2,3,4]\n",
        "f=[2,2,2,2,2]\n",
        "i=[9,8,7,6,5]\n",
        "j=[1]\n",
        "k=[\"a\"]\n",
        "#print(min(e,f,i,j,k))문자열과 숫자 혼용해 에러발생"
      ],
      "metadata": {
        "id": "pYvaDL3VfTxh"
      },
      "execution_count": 7,
      "outputs": []
    },
    {
      "cell_type": "code",
      "source": [
        "myString=\"everdevel\"\n",
        "print(myString.count(\"e\"))"
      ],
      "metadata": {
        "colab": {
          "base_uri": "https://localhost:8080/"
        },
        "id": "KvXlZhFYhWJ4",
        "outputId": "cdbfbc92-56a0-4d2d-c998-b6402b1feb16"
      },
      "execution_count": 8,
      "outputs": [
        {
          "output_type": "stream",
          "name": "stdout",
          "text": [
            "4\n"
          ]
        }
      ]
    },
    {
      "cell_type": "code",
      "source": [
        "a=\"BlockDMask\"\n",
        "\n",
        "print(\"#1 a.count('Ma')\")\n",
        "print(a.count('Ma'))\n",
        "print(\"#2 a.count('ck')\")\n",
        "print(a.count('ck'))"
      ],
      "metadata": {
        "colab": {
          "base_uri": "https://localhost:8080/"
        },
        "id": "K4jAKJx8fuAI",
        "outputId": "8884cacb-bcaf-4887-e3e9-cc483cfa7208"
      },
      "execution_count": 9,
      "outputs": [
        {
          "output_type": "stream",
          "name": "stdout",
          "text": [
            "#1 a.count('Ma')\n",
            "1\n",
            "#2 a.count('ck')\n",
            "1\n"
          ]
        }
      ]
    },
    {
      "cell_type": "code",
      "source": [
        "str=\"BlockDMask\"\n",
        "print(\"1.str.find('찾을문자')\")\n",
        "result1=str.find(\"B\")\n",
        "print(result1)\n",
        "\n",
        "#문자가 있는 경우\n",
        "result2=str.find(\"Z\")\n",
        "\n",
        "#문자가 없는 경우\n",
        "print(f\"str.find('B'):{result1}\")\n",
        "print(f\"str.find('Z'):{result2}\")\n",
        "\n",
        "result3=str.find(\"ask\")\n",
        "print(f\"str.find('ask'):{result3}\")"
      ],
      "metadata": {
        "colab": {
          "base_uri": "https://localhost:8080/"
        },
        "id": "rOMVg2ZJgETo",
        "outputId": "b54c0655-f41f-45c5-dabd-37625d91353b"
      },
      "execution_count": 10,
      "outputs": [
        {
          "output_type": "stream",
          "name": "stdout",
          "text": [
            "1.str.find('찾을문자')\n",
            "0\n",
            "str.find('B'):0\n",
            "str.find('Z'):-1\n",
            "str.find('ask'):7\n"
          ]
        }
      ]
    },
    {
      "cell_type": "code",
      "source": [
        "str=\"BlockDMask\"\n",
        "print(f\"str:{str}\\n\")\n",
        "\n",
        "result4=str.find(\"kkk\")\n",
        "#문자열이 없는 경우\n",
        "print(f\"str.find('kkk'):{result4}\")"
      ],
      "metadata": {
        "colab": {
          "base_uri": "https://localhost:8080/"
        },
        "id": "spv9eTbIg2Jy",
        "outputId": "ce10b7f3-097d-4f15-9568-eb6d98a6a30a"
      },
      "execution_count": 11,
      "outputs": [
        {
          "output_type": "stream",
          "name": "stdout",
          "text": [
            "str:BlockDMask\n",
            "\n",
            "str.find('kkk'):-1\n"
          ]
        }
      ]
    },
    {
      "cell_type": "code",
      "source": [
        "print(\"2. str.find('찾을문자', 시작index)\")\n",
        "result5= str.find('o')\n",
        "result6= str.find('o', 5)\n",
        "print(f\"str.find('o') = {result5}\")\n",
        "print(f\"str[5] = {str[5]}\")\n",
        "print(f\"str.find('o', 5) : {result6}\")"
      ],
      "metadata": {
        "colab": {
          "base_uri": "https://localhost:8080/"
        },
        "id": "q8002iuPhPTI",
        "outputId": "0432f05c-424d-44ca-c3b7-aed1c319acf6"
      },
      "execution_count": 12,
      "outputs": [
        {
          "output_type": "stream",
          "name": "stdout",
          "text": [
            "2. str.find('찾을문자', 시작index)\n",
            "str.find('o') = 2\n",
            "str[5] = D\n",
            "str.find('o', 5) : -1\n"
          ]
        }
      ]
    },
    {
      "cell_type": "code",
      "source": [
        "str = 'Hello world, Python!'\n",
        "\n",
        "if str.startswith('Hello'):\n",
        "    print('It starts with Hello')\n",
        "\n",
        "if not str.startswith('Python'):\n",
        "    print('It does not start with Python')"
      ],
      "metadata": {
        "colab": {
          "base_uri": "https://localhost:8080/"
        },
        "id": "u2x2uYf9bs93",
        "outputId": "4e84e46e-b2a4-4ea0-c852-99c23b21ea3b"
      },
      "execution_count": 13,
      "outputs": [
        {
          "output_type": "stream",
          "name": "stdout",
          "text": [
            "It starts with Hello\n",
            "It does not start with Python\n"
          ]
        }
      ]
    },
    {
      "cell_type": "code",
      "source": [
        "str = \"this is string example....wow!!!\"\n",
        "\n",
        "suffix = \"wow!!!\"\n",
        "print(str.endswith(suffix))\n",
        "print(str.endswith(suffix,20))\n",
        "\n",
        "suffix = \"is\"\n",
        "print(str.endswith(suffix, 2, 4))\n",
        "print(str.endswith(suffix, 2, 6))"
      ],
      "metadata": {
        "colab": {
          "base_uri": "https://localhost:8080/"
        },
        "id": "AraLFgEebwlp",
        "outputId": "2acd047c-4cc4-422f-81e4-db2fa6a912f4"
      },
      "execution_count": 14,
      "outputs": [
        {
          "output_type": "stream",
          "name": "stdout",
          "text": [
            "True\n",
            "True\n",
            "True\n",
            "False\n"
          ]
        }
      ]
    },
    {
      "cell_type": "code",
      "source": [
        "text = 'Welcome to Codetorial'\n",
        "\n",
        "pos_e_last = text.rfind('e')\n",
        "print(pos_e_last)\n",
        "\n",
        "pos_e_first = text.find('e')\n",
        "print(pos_e_first)\n",
        "\n",
        "pos_to_last = text.rfind('to')\n",
        "print(pos_to_last)\n",
        "\n",
        "pos_to_first = text.find('to')\n",
        "print(pos_to_first)"
      ],
      "metadata": {
        "colab": {
          "base_uri": "https://localhost:8080/"
        },
        "id": "GO9GftG_bxnL",
        "outputId": "cbb39f14-eca9-4107-dddb-e9d8a7f18b98"
      },
      "execution_count": 15,
      "outputs": [
        {
          "output_type": "stream",
          "name": "stdout",
          "text": [
            "14\n",
            "1\n",
            "15\n",
            "8\n"
          ]
        }
      ]
    },
    {
      "cell_type": "code",
      "source": [
        "a = [123, 421, 212, 11, 24, 102, 29, 92, 10]\n",
        "print(a.index(212))"
      ],
      "metadata": {
        "colab": {
          "base_uri": "https://localhost:8080/"
        },
        "id": "ltPui3PTb0qa",
        "outputId": "df2dd9dd-5d4f-4d3e-a2bb-b1e803904ef7"
      },
      "execution_count": 16,
      "outputs": [
        {
          "output_type": "stream",
          "name": "stdout",
          "text": [
            "2\n"
          ]
        }
      ]
    },
    {
      "cell_type": "code",
      "source": [
        "# 리스트.index(x)\n",
        "# 데이터 x의 위치 반환\n",
        "nums_list = [1,2,3,3,3,5,6,8,9]\n",
        "nums_tuple = (1,2,3,3,3,5,6,8,9)\n",
        "nums_set = {1,2,3,5,6,8,9}\n",
        "\n",
        "print(nums_list.index(2))  # 1\n",
        "print(nums_list.index(3))  # 2\n",
        "# -> 찾고자하는 데이터가 여러개 존재할 경우, 가장 작은 위치 값 반환\n",
        "\n",
        "print(nums_tuple.index(2)) # 1\n",
        "print(nums_tuple.index(3)) # 2"
      ],
      "metadata": {
        "colab": {
          "base_uri": "https://localhost:8080/"
        },
        "id": "4vKvKtBmb1my",
        "outputId": "3508d186-6cf8-4b40-f139-f9273b138c09"
      },
      "execution_count": 17,
      "outputs": [
        {
          "output_type": "stream",
          "name": "stdout",
          "text": [
            "1\n",
            "2\n",
            "1\n",
            "2\n"
          ]
        }
      ]
    },
    {
      "cell_type": "code",
      "source": [
        "#문자열에서 사용\n",
        "str = 'kangminheee'\n",
        "print(str.index('k'))  #0\n",
        "print(str.index('h'))  #7\n",
        "print(str.index('i'))  #5\n",
        "#print(str.index('l')) 없는 걸 찾으면 error\n",
        "print(str.index('e'))  #8 -> 여러개면 제일 첫번째것 반환\n",
        "print(str.find('e'))   #8 -> find()는 index()와 같은 기능을 가진 함수\n",
        "print(str.rfind('e'))  #10 -> 여러개중 가장 오른쪽 것 반환"
      ],
      "metadata": {
        "colab": {
          "base_uri": "https://localhost:8080/"
        },
        "id": "1H6CP-uLb2Tn",
        "outputId": "d97aecab-9142-4746-d638-54cdf348b6c5"
      },
      "execution_count": 18,
      "outputs": [
        {
          "output_type": "stream",
          "name": "stdout",
          "text": [
            "0\n",
            "7\n",
            "5\n",
            "8\n",
            "8\n",
            "10\n"
          ]
        }
      ]
    },
    {
      "cell_type": "code",
      "source": [
        "hz = \"홈짱닷컴 Homzzang.com\"\n",
        "\n",
        "x = hz.rindex(\"Homzzang\")\n",
        "\n",
        "print(x)\n",
        "\n",
        "x = hz.rindex(\"o\", 2)\n",
        "print(x)"
      ],
      "metadata": {
        "colab": {
          "base_uri": "https://localhost:8080/"
        },
        "id": "gtLnl8Bob3RV",
        "outputId": "845503b7-b427-4ee2-e57a-bdacd7631eee"
      },
      "execution_count": 19,
      "outputs": [
        {
          "output_type": "stream",
          "name": "stdout",
          "text": [
            "5\n",
            "15\n"
          ]
        }
      ]
    },
    {
      "cell_type": "code",
      "source": [
        "text = 'Welcome to Codetorial'\n",
        "\n",
        "pos_Code_last = text.rindex('Code')\n",
        "print(pos_Code_last)\n",
        "\n",
        "pos_code_last = text.rindex('code')\n",
        "print(pos_code_last)"
      ],
      "metadata": {
        "colab": {
          "base_uri": "https://localhost:8080/",
          "height": 221
        },
        "id": "kLjLPxrtb46w",
        "outputId": "0d3e5820-963c-400f-d34a-c8b09077b160"
      },
      "execution_count": 20,
      "outputs": [
        {
          "output_type": "stream",
          "name": "stdout",
          "text": [
            "11\n"
          ]
        },
        {
          "output_type": "error",
          "ename": "ValueError",
          "evalue": "substring not found",
          "traceback": [
            "\u001b[0;31m---------------------------------------------------------------------------\u001b[0m",
            "\u001b[0;31mValueError\u001b[0m                                Traceback (most recent call last)",
            "\u001b[0;32m<ipython-input-20-d7232e1bc62f>\u001b[0m in \u001b[0;36m<cell line: 6>\u001b[0;34m()\u001b[0m\n\u001b[1;32m      4\u001b[0m \u001b[0mprint\u001b[0m\u001b[0;34m(\u001b[0m\u001b[0mpos_Code_last\u001b[0m\u001b[0;34m)\u001b[0m\u001b[0;34m\u001b[0m\u001b[0;34m\u001b[0m\u001b[0m\n\u001b[1;32m      5\u001b[0m \u001b[0;34m\u001b[0m\u001b[0m\n\u001b[0;32m----> 6\u001b[0;31m \u001b[0mpos_code_last\u001b[0m \u001b[0;34m=\u001b[0m \u001b[0mtext\u001b[0m\u001b[0;34m.\u001b[0m\u001b[0mrindex\u001b[0m\u001b[0;34m(\u001b[0m\u001b[0;34m'code'\u001b[0m\u001b[0;34m)\u001b[0m\u001b[0;34m\u001b[0m\u001b[0;34m\u001b[0m\u001b[0m\n\u001b[0m\u001b[1;32m      7\u001b[0m \u001b[0mprint\u001b[0m\u001b[0;34m(\u001b[0m\u001b[0mpos_code_last\u001b[0m\u001b[0;34m)\u001b[0m\u001b[0;34m\u001b[0m\u001b[0;34m\u001b[0m\u001b[0m\n",
            "\u001b[0;31mValueError\u001b[0m: substring not found"
          ]
        }
      ]
    }
  ]
}