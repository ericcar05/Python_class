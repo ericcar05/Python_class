{
  "nbformat": 4,
  "nbformat_minor": 0,
  "metadata": {
    "colab": {
      "provenance": [],
      "authorship_tag": "ABX9TyP4TwHG3ze+RbpAh56ayHzl",
      "include_colab_link": true
    },
    "kernelspec": {
      "name": "python3",
      "display_name": "Python 3"
    },
    "language_info": {
      "name": "python"
    }
  },
  "cells": [
    {
      "cell_type": "markdown",
      "metadata": {
        "id": "view-in-github",
        "colab_type": "text"
      },
      "source": [
        "<a href=\"https://colab.research.google.com/github/ericcar05/Python_class/blob/main/9%EC%9D%BC%EC%B0%A8.ipynb\" target=\"_parent\"><img src=\"https://colab.research.google.com/assets/colab-badge.svg\" alt=\"Open In Colab\"/></a>"
      ]
    },
    {
      "cell_type": "code",
      "execution_count": null,
      "metadata": {
        "colab": {
          "base_uri": "https://localhost:8080/"
        },
        "id": "dKuKGsE_VqRj",
        "outputId": "038ed124-368e-423b-8ab5-2677791422a9"
      },
      "outputs": [
        {
          "output_type": "stream",
          "name": "stdout",
          "text": [
            "        test   !       \n",
            ".text.~~ \n",
            "test!\n",
            "        test   !       \n",
            "~~.text.~~ \n",
            "~test!\n",
            "\n",
            "\n",
            "\n",
            "Water boils at 100 degress 000\n",
            "000000000Water boils at 100 degress \n",
            "Water boils at 100 degress \n",
            "\n",
            "\n",
            "\n",
            "water...pp\n",
            ",,,,,,123...water\n",
            "water\n"
          ]
        }
      ],
      "source": [
        "a = '        test   !       '\n",
        "b = '~~.text.~~ '\n",
        "c = '~test!'\n",
        "\n",
        "#print(a.rstrip(), end='.')\n",
        "print(a.lstrip('~'))\n",
        "print(b.lstrip('~'))\n",
        "print(c.lstrip('~'))\n",
        "\n",
        "print(a.rstrip('~'))\n",
        "print(b.rstrip('~'))\n",
        "print(c.rstrip('~'))\n",
        "\n",
        "print('\\n\\n')\n",
        "\n",
        "text = '000000000Water boils at 100 degress 000'\n",
        "print(text.lstrip('0'))\n",
        "print(text.rstrip('0'))\n",
        "print(text.strip('0'))\n",
        "\n",
        "print('\\n\\n')\n",
        "text = \",,,,,,123...water...pp\"\n",
        "print(text.lstrip(',123.p'))\n",
        "print(text.rstrip(',123.p'))\n",
        "print(text.strip(',123.p'))"
      ]
    },
    {
      "cell_type": "code",
      "source": [
        "text=\"   Water boils at 100 degrees  \"\n",
        "print('[' + text.strip() + ']')\n",
        "print('[' + text.lstrip() + ']')\n",
        "print('[' + text.rstrip() + ']')"
      ],
      "metadata": {
        "colab": {
          "base_uri": "https://localhost:8080/"
        },
        "id": "QZoZZ-4RVunM",
        "outputId": "7098da88-de99-4cff-f413-f900eefeeea4"
      },
      "execution_count": null,
      "outputs": [
        {
          "output_type": "stream",
          "name": "stdout",
          "text": [
            "[Water boils at 100 degrees]\n",
            "[Water boils at 100 degrees  ]\n",
            "[   Water boils at 100 degrees]\n"
          ]
        }
      ]
    },
    {
      "cell_type": "code",
      "source": [
        "txt=\" Hz  \"\n",
        "print(txt.isspace())"
      ],
      "metadata": {
        "colab": {
          "base_uri": "https://localhost:8080/"
        },
        "id": "VAymK15CWnzb",
        "outputId": "492dff46-d1f4-422c-a835-f49354dd3263"
      },
      "execution_count": null,
      "outputs": [
        {
          "output_type": "stream",
          "name": "stdout",
          "text": [
            "False\n"
          ]
        }
      ]
    },
    {
      "cell_type": "code",
      "source": [
        "sentence = input(\"문자열을 입력하시오: \")\n",
        "table = { \"알파벳\" : 0, \"숫자\" : 0, \"빈칸\" : 0}\n",
        "\n",
        "for i in sentence:\n",
        "    if (i.isalpha()):\n",
        "        table[\"알파벳\"] += 1\n",
        "    elif (i.isdigit()):\n",
        "        table[\"숫자\"] += 1\n",
        "    elif (i.isspace()):\n",
        "        table[\"빈칸\"] += 1\n",
        "print(table)"
      ],
      "metadata": {
        "colab": {
          "base_uri": "https://localhost:8080/"
        },
        "id": "sx9Ad2cLWszZ",
        "outputId": "622dd9ba-d868-4a36-cad2-57daf32ef15e"
      },
      "execution_count": null,
      "outputs": [
        {
          "output_type": "stream",
          "name": "stdout",
          "text": [
            "문자열을 입력하시오: 1234 asdf\n",
            "{'알파벳': 4, '숫자': 4, '빈칸': 1}\n"
          ]
        }
      ]
    },
    {
      "cell_type": "code",
      "source": [
        "s = '가나다라'\n",
        "n = 7\n",
        "\n",
        "answer =''\n",
        "for i in range(n-len(s)):  # 문자열의 앞을 빈 문자열로 채우는 for 문\n",
        "    answer +=' '\n",
        "\n",
        "answer += s\n",
        "\n",
        "print(answer)\n",
        "\n",
        "print(s.ljust(n))\n",
        "print(s.center(n))\n",
        "print(s.rjust(n))"
      ],
      "metadata": {
        "colab": {
          "base_uri": "https://localhost:8080/"
        },
        "id": "ZZ8HgxiFWuci",
        "outputId": "b07c5caa-9844-485b-b595-8e5cb9e9b57e"
      },
      "execution_count": null,
      "outputs": [
        {
          "output_type": "stream",
          "name": "stdout",
          "text": [
            "   가나다라\n",
            "가나다라   \n",
            "  가나다라 \n",
            "   가나다라\n"
          ]
        }
      ]
    },
    {
      "cell_type": "code",
      "source": [
        "s = \"aa.bb.cc.BlockDMask.ee.ff.gg.python.example\"\n",
        "print(s)\n",
        "\n",
        "r0 = s.split()\n",
        "r1 = s.split('.',3)\n",
        "r2 = s.split(sep='.', maxsplit=4)\n",
        "r3 = s.split('.', maxsplit=3)\n",
        "print(f\"\\ns.split()\\n{r0}\")\n",
        "print(f\"\\ns.split('.',4)\\n{r1}\")\n",
        "print(f\"\\ns.split(sep='.', maxsplit=3)\\n{r2}\")\n",
        "print(f\"\\ns.split('.', maxsplit=3)\\n{r3}\")"
      ],
      "metadata": {
        "colab": {
          "base_uri": "https://localhost:8080/"
        },
        "id": "aRISoaTbWv6r",
        "outputId": "027ee57a-010b-499f-b900-8f423a27590d"
      },
      "execution_count": null,
      "outputs": [
        {
          "output_type": "stream",
          "name": "stdout",
          "text": [
            "aa.bb.cc.BlockDMask.ee.ff.gg.python.example\n",
            "\n",
            "s.split()\n",
            "['aa.bb.cc.BlockDMask.ee.ff.gg.python.example']\n",
            "\n",
            "s.split('.',4)\n",
            "['aa', 'bb', 'cc', 'BlockDMask.ee.ff.gg.python.example']\n",
            "\n",
            "s.split(sep='.', maxsplit=3)\n",
            "['aa', 'bb', 'cc', 'BlockDMask', 'ee.ff.gg.python.example']\n",
            "\n",
            "s.split('.', maxsplit=3)\n",
            "['aa', 'bb', 'cc', 'BlockDMask.ee.ff.gg.python.example']\n"
          ]
        }
      ]
    },
    {
      "cell_type": "code",
      "source": [
        "txt=\"홈짱닷컴\\nHomzzang.com\"\n",
        "print(txt.splitlines())"
      ],
      "metadata": {
        "colab": {
          "base_uri": "https://localhost:8080/"
        },
        "id": "yLS0lIK9Wyn7",
        "outputId": "6d7e6836-dfdb-47a9-8d66-d03d6ba96c34"
      },
      "execution_count": null,
      "outputs": [
        {
          "output_type": "stream",
          "name": "stdout",
          "text": [
            "['홈짱닷컴', 'Homzzang.com']\n"
          ]
        }
      ]
    },
    {
      "cell_type": "code",
      "source": [
        "text = '123,456,789,999'\n",
        "\n",
        "print(text.replace(\",\",\"\"))\n",
        "print(text.replace(\",\",\"!\",1))\n",
        "print(text.replace(\",\",\"!\",2))\n",
        "print(text.replace(\",\",\"!\",3))"
      ],
      "metadata": {
        "colab": {
          "base_uri": "https://localhost:8080/"
        },
        "id": "mDUt6qHhXCjj",
        "outputId": "cd25590f-922c-482f-859a-3c1fe3568916"
      },
      "execution_count": null,
      "outputs": [
        {
          "output_type": "stream",
          "name": "stdout",
          "text": [
            "123456789999\n",
            "123!456,789,999\n",
            "123!456!789,999\n",
            "123!456!789!999\n"
          ]
        }
      ]
    },
    {
      "cell_type": "code",
      "source": [
        "a = ['a', 'b', 'c', 'd', '1', '2', '3']\n",
        "print(a)\n",
        "\n",
        "result1 = \"\".join(a)\n",
        "print(result1)\n",
        "\n",
        "result2 = \"!\".join(a)\n",
        "print(result2)"
      ],
      "metadata": {
        "colab": {
          "base_uri": "https://localhost:8080/"
        },
        "id": "1ALxdqg6XQry",
        "outputId": "723b7fba-2aa3-453d-f7c9-d09cd3dafe56"
      },
      "execution_count": null,
      "outputs": [
        {
          "output_type": "stream",
          "name": "stdout",
          "text": [
            "['a', 'b', 'c', 'd', '1', '2', '3']\n",
            "abcd123\n",
            "a!b!c!d!1!2!3\n"
          ]
        }
      ]
    },
    {
      "cell_type": "code",
      "source": [
        "print(\"3\".zfill(3))\n",
        "print(\"s1\".zfill(4))"
      ],
      "metadata": {
        "colab": {
          "base_uri": "https://localhost:8080/"
        },
        "id": "K6tYpBdgXkyD",
        "outputId": "3dcd8c9d-f77f-4e11-e8d8-3bc322978620"
      },
      "execution_count": null,
      "outputs": [
        {
          "output_type": "stream",
          "name": "stdout",
          "text": [
            "003\n",
            "00s1\n"
          ]
        }
      ]
    },
    {
      "cell_type": "code",
      "source": [
        "for i in range(3):\n",
        "  print(i)\n",
        "  print(str(i).zfill(4))"
      ],
      "metadata": {
        "colab": {
          "base_uri": "https://localhost:8080/"
        },
        "id": "ERCaTSUsXsyC",
        "outputId": "f92269a3-9d82-400d-b99d-787144e7420e"
      },
      "execution_count": null,
      "outputs": [
        {
          "output_type": "stream",
          "name": "stdout",
          "text": [
            "0\n",
            "0000\n",
            "1\n",
            "0001\n",
            "2\n",
            "0002\n"
          ]
        }
      ]
    }
  ]
}