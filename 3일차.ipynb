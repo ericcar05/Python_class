{
  "nbformat": 4,
  "nbformat_minor": 0,
  "metadata": {
    "colab": {
      "provenance": [],
      "authorship_tag": "ABX9TyNTslzyz3So4PeSFdy+2EFP",
      "include_colab_link": true
    },
    "kernelspec": {
      "name": "python3",
      "display_name": "Python 3"
    },
    "language_info": {
      "name": "python"
    }
  },
  "cells": [
    {
      "cell_type": "markdown",
      "metadata": {
        "id": "view-in-github",
        "colab_type": "text"
      },
      "source": [
        "<a href=\"https://colab.research.google.com/github/ericcar05/Python_class/blob/main/3%EC%9D%BC%EC%B0%A8.ipynb\" target=\"_parent\"><img src=\"https://colab.research.google.com/assets/colab-badge.svg\" alt=\"Open In Colab\"/></a>"
      ]
    },
    {
      "cell_type": "code",
      "execution_count": 2,
      "metadata": {
        "colab": {
          "base_uri": "https://localhost:8080/"
        },
        "id": "p5G7ptN2ddg0",
        "outputId": "be97445b-3f93-4e24-b734-8f6cb8e54927"
      },
      "outputs": [
        {
          "output_type": "stream",
          "name": "stdout",
          "text": [
            "Hello\n",
            "hello everyone\n",
            "hello!!!"
          ]
        }
      ],
      "source": [
        "print(\"Hello\")\n",
        "print('hello','everyone')\n",
        "#print() 함수는 기본적으로 줄 바꿈 문자를 추가로 입력함\n",
        "print('hello', end='!!!') #기본적으로 생기는 줄 바꿈 문자 \\n을 end를 이용하여 다른 문자로 바꿈"
      ]
    },
    {
      "cell_type": "code",
      "source": [
        "print('Hello World')\n",
        "print(\"Nice to meet you.\")\n",
        "print('Hello \"World\"')\n",
        "print(\"Hello 'World'\")\n",
        "print('Hello','World')\n",
        "print('Hello'+'World')"
      ],
      "metadata": {
        "colab": {
          "base_uri": "https://localhost:8080/"
        },
        "id": "_e90nG7ndhw-",
        "outputId": "9444d4de-dad3-4d24-eaae-310ea6c3f2a7"
      },
      "execution_count": 3,
      "outputs": [
        {
          "output_type": "stream",
          "name": "stdout",
          "text": [
            "Hello World\n",
            "Nice to meet you.\n",
            "Hello \"World\"\n",
            "Hello 'World'\n",
            "Hello World\n",
            "HelloWorld\n"
          ]
        }
      ]
    },
    {
      "cell_type": "code",
      "source": [
        "print(\"\\\"string\\\"\")\n",
        "print('\\'string\\'')"
      ],
      "metadata": {
        "colab": {
          "base_uri": "https://localhost:8080/"
        },
        "id": "JFRmp3JDdjpf",
        "outputId": "94d5a685-e823-4bf5-b580-98379f084cf2"
      },
      "execution_count": 4,
      "outputs": [
        {
          "output_type": "stream",
          "name": "stdout",
          "text": [
            "\"string\"\n",
            "'string'\n"
          ]
        }
      ]
    },
    {
      "cell_type": "code",
      "source": [
        "s1 = '화면에 직접 출력'\n",
        "s2 = 'ab\\c'\n",
        "s3 = 'does'\n",
        "print(s1)\n",
        "print(s2)\n",
        "print(s3)\n",
        "print(s1[0]) #[]를 사용하여 첫번째 단어 출력\n",
        "print(s2[1]) #[]를 사용하여 두번째 단어 출력\n",
        "print(s3[1:3]) #[]를 사용하여 두번째에서 3번째 단어 출력\n",
        "print(s3[-1]) #뒤에서 첫번째 단어 출력\n",
        "print(s3[-2]) #뒤에서 두번째 단어 출력"
      ],
      "metadata": {
        "colab": {
          "base_uri": "https://localhost:8080/"
        },
        "id": "Oo5rXF-PdoY-",
        "outputId": "708c6e0f-871e-434a-f5c6-a20b33ea8bc2"
      },
      "execution_count": 5,
      "outputs": [
        {
          "output_type": "stream",
          "name": "stdout",
          "text": [
            "화면에 직접 출력\n",
            "ab\\c\n",
            "does\n",
            "화\n",
            "b\n",
            "oe\n",
            "s\n",
            "e\n"
          ]
        }
      ]
    },
    {
      "cell_type": "code",
      "source": [
        "a = 2\n",
        "b = 3.14\n",
        "c = a+b\n",
        "d = 1e2  #e2 : 10^2라는 뜻\n",
        "e = 1e-2\n",
        "print(a)\n",
        "print(b)\n",
        "print(c)\n",
        "print(round(c,2)) #소수점 둘째자리까지 c를 출력\n",
        "print(\"%.2f\" % (c)) #소수점 둘째자리까지 c를 출력\n",
        "print(a+b)\n",
        "print(a,b,a+b,c)\n",
        "print(d)\n",
        "print(e)"
      ],
      "metadata": {
        "colab": {
          "base_uri": "https://localhost:8080/"
        },
        "id": "tN0B1xL_drGU",
        "outputId": "f81073cd-a212-4f7f-fa93-334a3a7347a6"
      },
      "execution_count": 6,
      "outputs": [
        {
          "output_type": "stream",
          "name": "stdout",
          "text": [
            "2\n",
            "3.14\n",
            "5.140000000000001\n",
            "5.14\n",
            "5.14\n",
            "5.140000000000001\n",
            "2 3.14 5.140000000000001 5.140000000000001\n",
            "100.0\n",
            "0.01\n"
          ]
        }
      ]
    },
    {
      "cell_type": "code",
      "source": [
        "item1 = '사과'\n",
        "price1 = 1000\n",
        "item2 = '바나나'\n",
        "price2 = 500\n",
        "print(item1, price1, sep=',',end='/') #sep로 두 값 사이에 ',' 출력, end로 개행문자를 /로 변경\n",
        "print(item2, price2)"
      ],
      "metadata": {
        "colab": {
          "base_uri": "https://localhost:8080/"
        },
        "id": "qACHBaU5dtHV",
        "outputId": "d9460f6e-5683-479d-8def-8e963d6ab620"
      },
      "execution_count": 7,
      "outputs": [
        {
          "output_type": "stream",
          "name": "stdout",
          "text": [
            "사과,1000/바나나 500\n"
          ]
        }
      ]
    },
    {
      "cell_type": "code",
      "source": [
        "item1 = '사과'\n",
        "price1 = 1000\n",
        "item2 = '바나나'\n",
        "price2 = 500\n",
        "str1 = '{0}는 {1}원입니다.' #문자열에 {}를 사용하여 format을 통해 받을 값의 위치 지정\n",
        "print(str1.format(item1, price1))\n",
        "print(str1.format(item2, price2))"
      ],
      "metadata": {
        "colab": {
          "base_uri": "https://localhost:8080/"
        },
        "id": "g-THOSCjdvkk",
        "outputId": "4cd5faa1-6338-4255-92ee-a81104298ec4"
      },
      "execution_count": 8,
      "outputs": [
        {
          "output_type": "stream",
          "name": "stdout",
          "text": [
            "사과는 1000원입니다.\n",
            "바나나는 500원입니다.\n"
          ]
        }
      ]
    },
    {
      "cell_type": "code",
      "source": [
        "item1 = '사과'\n",
        "price1 = 1000\n",
        "item2 = '바나나'\n",
        "price2 = 500\n",
        "str2 = '%s는 %d원입니다.' #문자열에서 %s(문자형 변수 호출)와 %d(숫자형 변수 호출) 문자를 사용\n",
        "print(str2%(item1, price1)) #받으려는 변수 앞에 % 사용\n",
        "print(str2%(item2, price2))"
      ],
      "metadata": {
        "colab": {
          "base_uri": "https://localhost:8080/"
        },
        "id": "hTQiwMxhdwvt",
        "outputId": "8b397e67-82e2-4a78-9764-7bd46e7e287c"
      },
      "execution_count": 9,
      "outputs": [
        {
          "output_type": "stream",
          "name": "stdout",
          "text": [
            "사과는 1000원입니다.\n",
            "바나나는 500원입니다.\n"
          ]
        }
      ]
    }
  ]
}