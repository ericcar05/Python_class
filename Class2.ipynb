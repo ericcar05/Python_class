{
  "nbformat": 4,
  "nbformat_minor": 0,
  "metadata": {
    "colab": {
      "provenance": [],
      "authorship_tag": "ABX9TyOP8jchFJnV6SBIxRhTRRTF",
      "include_colab_link": true
    },
    "kernelspec": {
      "name": "python3",
      "display_name": "Python 3"
    },
    "language_info": {
      "name": "python"
    }
  },
  "cells": [
    {
      "cell_type": "markdown",
      "metadata": {
        "id": "view-in-github",
        "colab_type": "text"
      },
      "source": [
        "<a href=\"https://colab.research.google.com/github/ericcar05/Python_class/blob/main/Class2.ipynb\" target=\"_parent\"><img src=\"https://colab.research.google.com/assets/colab-badge.svg\" alt=\"Open In Colab\"/></a>"
      ]
    },
    {
      "cell_type": "markdown",
      "source": [
        "변수 선언"
      ],
      "metadata": {
        "id": "a1_mnxo76J8t"
      }
    },
    {
      "cell_type": "code",
      "source": [
        "watch=100000\n",
        "a='pig'\n",
        "b='dad'\n",
        "print(a)\n",
        "print(b)\n",
        "print(watch)"
      ],
      "metadata": {
        "colab": {
          "base_uri": "https://localhost:8080/"
        },
        "id": "scu-epl656Oz",
        "outputId": "b55ab716-ab5a-48e2-efbf-f8a04312608a"
      },
      "execution_count": 6,
      "outputs": [
        {
          "output_type": "stream",
          "name": "stdout",
          "text": [
            "pig\n",
            "dad\n",
            "100000\n"
          ]
        }
      ]
    },
    {
      "cell_type": "markdown",
      "source": [
        "여러 개의 변수를 선언 하는 방법"
      ],
      "metadata": {
        "id": "HX34Af4_4_b3"
      }
    },
    {
      "cell_type": "code",
      "execution_count": 7,
      "metadata": {
        "id": "07ukDHAJ4V12"
      },
      "outputs": [],
      "source": [
        "a=10#자동선언\n",
        "a,b=(10,20)#튜플 활용\n",
        "[a,b]=[10,20]#List 활용\n",
        "a=b=10#a,b같은값 할당\n",
        "a=None#비어있는 변수"
      ]
    },
    {
      "cell_type": "markdown",
      "source": [
        "변수 사용법"
      ],
      "metadata": {
        "id": "wOrCzT4r5DbR"
      }
    },
    {
      "cell_type": "code",
      "source": [
        "#교환\n",
        "a=10\n",
        "b=2000\n",
        "a,b=b,a"
      ],
      "metadata": {
        "id": "H43nQtl548sN"
      },
      "execution_count": 3,
      "outputs": []
    },
    {
      "cell_type": "code",
      "source": [
        "#List 사용법(C에서는 배열)\n",
        "a=[10, 20, 30]\n",
        "b=a\n",
        "\n",
        "a[0] = 200#List의 첫번째열을 200으로 변경\n",
        "print(b)"
      ],
      "metadata": {
        "colab": {
          "base_uri": "https://localhost:8080/"
        },
        "id": "a6skBXqz5Jju",
        "outputId": "3732b6a1-0979-4d15-c1e4-4aa9c7723c38"
      },
      "execution_count": 8,
      "outputs": [
        {
          "output_type": "stream",
          "name": "stdout",
          "text": [
            "[200, 20, 30]\n"
          ]
        }
      ]
    },
    {
      "cell_type": "markdown",
      "source": [
        "print"
      ],
      "metadata": {
        "id": "duqoVuet76dD"
      }
    },
    {
      "cell_type": "code",
      "source": [
        "print(\"Hello World\")\n",
        "print('Hello World')\n",
        "print(1)\n",
        "print(\"1\")"
      ],
      "metadata": {
        "colab": {
          "base_uri": "https://localhost:8080/"
        },
        "id": "cZzaXmbY756h",
        "outputId": "3aaccd15-1e62-4b7d-81c5-7eebdac4bf0d"
      },
      "execution_count": 16,
      "outputs": [
        {
          "output_type": "stream",
          "name": "stdout",
          "text": [
            "Hello World\n",
            "Hello World\n",
            "1\n",
            "1\n"
          ]
        }
      ]
    },
    {
      "cell_type": "code",
      "source": [
        "a=10\n",
        "print(\"a=\"+str(a))#정수를 string으로 변환\n",
        "print(\"a=\",a)\n",
        "print(\"a={}\".format(a))"
      ],
      "metadata": {
        "colab": {
          "base_uri": "https://localhost:8080/"
        },
        "id": "q7Turqjc8Qdx",
        "outputId": "a2685a98-cbfc-4019-b5d7-45814c81c3ec"
      },
      "execution_count": 17,
      "outputs": [
        {
          "output_type": "stream",
          "name": "stdout",
          "text": [
            "a=10\n",
            "a= 10\n",
            "a=10\n"
          ]
        }
      ]
    },
    {
      "cell_type": "markdown",
      "source": [
        "print문 사용법 실습"
      ],
      "metadata": {
        "id": "zKIMfCCJ6ngA"
      }
    },
    {
      "cell_type": "code",
      "source": [
        "A=[10,20,30]\n",
        "B=1\n",
        "C=2\n",
        "\n",
        "print(A)\n",
        "print(\"A={}\",format(A))\n",
        "print(\"B={}\",format(B))\n",
        "print(\"A={}, B={}, C={}\".format(A[0],B,C))"
      ],
      "metadata": {
        "colab": {
          "base_uri": "https://localhost:8080/"
        },
        "id": "G8aJaSZM5t5Q",
        "outputId": "6deb3d42-1911-4139-a7b2-3bf1c585d3c6"
      },
      "execution_count": 15,
      "outputs": [
        {
          "output_type": "stream",
          "name": "stdout",
          "text": [
            "[10, 20, 30]\n",
            "A={} [10, 20, 30]\n",
            "B={} 1\n",
            "A=10, B=1, C=2\n"
          ]
        }
      ]
    }
  ]
}